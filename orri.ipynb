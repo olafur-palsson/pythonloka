{
 "cells": [
  {
   "cell_type": "markdown",
   "metadata": {},
   "source": [
    "# REI201G Hópverkefni\n",
    "\n",
    "Í þessu verkefni mega nemendur vinna í hópum, **allt að þrír í hóp**. Merkið lausnina með nöfnum allra í hópnum og skilið einni hóplausn á Gradescope. Þetta verkefni er umfangsmeira en heimaverkefnin og því er nauðsynlegt að byrja snemma.\n",
    "\n",
    "**Skilafrestur** er til föstudagsins 20. apríl, kl. 23:59.\n",
    "\n",
    "Þið skilið Jupyter vinnubók sem inniheldur allan kóða sem notaður er til að leysa verkefnið ásamt útskýringum. Gefið verður sérstaklega fyrir hversu auðvelt er að fylgja kóðanum og hversu læsileg vinnubókin er. Óþarfi er að láta lýsingu á dæmum fylgja. Athugið að minnstu fervika verkefni er hægt að leysa með `np.linalg.lstsq` fallinu í NumPy."
   ]
  },
  {
   "cell_type": "markdown",
   "metadata": {},
   "source": [
    "1\\. [Flokkun á textaskjölum, 20 stig] Í þessu verkefni er unnið með gögn um tíðni orða í textaskjölum (unnið var með hliðstæð gögn í heimaverkefni 3.4). Fylki $X$ geymir hversu oft 1000 mismunandi orð á borð við `Griffyndor`, `football` og `school` koma fyrir í 600 skjölum. Búið er að flokka öll skjölin í einn af þremur eftirfarandi flokkum: íþróttir (1), menntun (2) og Harry Potter (3). Merkingarnar eru geymdar í 600-vigrinum $y$.\n",
    "\n",
    "Þið eigið að útbúa minnstu kvaðrata flokkara sem spáir fyrir um hvort tiltekinn textabútur (í formi vigurs $x$ sem geymir hversu oft orðin 1000 koma fyrir) fjalli um íþróttir eða ekki. Flokkarinn er á forminu $\\hat{y} = \\textrm{sign}(\\tilde{y}(x))$ þar sem $\\tilde{y}(x)=w^T x + v$ fæst með minnstu kvaðrata aðhvarfsgreiningu.\n",
    "\n",
    "Lesið gögnin inn og skiptið upp í þjálfunar- og prófunargögn með eftirfarandi kóða:"
   ]
  },
  {
   "cell_type": "code",
   "execution_count": 1,
   "metadata": {},
   "outputs": [
    {
     "name": "stdout",
     "output_type": "stream",
     "text": [
      "(180, 1001)\n",
      "(1001,)\n",
      "sunday\n",
      "charg\n",
      "play\n",
      "person\n",
      "effort\n",
      "histori\n",
      "plan\n",
      "grant\n",
      "divis\n",
      "season\n"
     ]
    }
   ],
   "source": [
    "#1\n",
    "import numpy as np\n",
    "from numpy import linalg as LA\n",
    "\n",
    "data=np.load('docmatrix.npz')\n",
    "X=data['X']\n",
    "y=data['y']\n",
    "terms=data['terms']\n",
    "\n",
    "# Skipta í gögnum í þjálfunar- og prófunargögn\n",
    "n=X.shape[0]\n",
    "rnd=np.random.permutation(n) # Slembin umröðun talnanna 1,...,n\n",
    "nfrac=0.7 # Hlutfall gagna sem er notað til þjálfunar\n",
    "n_train=int(nfrac*n)\n",
    "x_train=X[rnd[0:n_train],:]\n",
    "y_train=y[rnd[0:n_train]]\n",
    "x_test=X[rnd[n_train:],:]\n",
    "y_test=y[rnd[n_train:]]\n",
    "#fyrst þarf að flokka í 2 flokka. svo við breyttum menntun og Harry Potter í -1\n",
    "for i in range(len(y_train)):\n",
    "    if (y_train[i] != 1):\n",
    "        y_train[i] = -1;\n",
    "        \n",
    "        \n",
    "#Síðan er fundið vigur minnstu kvaðrata\n",
    "N = x_train.shape[0]\n",
    "A = np.c_[np.ones(N), x_train]\n",
    "\n",
    "theta,_,_,_ = LA.lstsq(A, y_train)\n",
    "\n",
    "\n",
    "\n",
    "#Síðan er prentað dot.productið og miðað þeim við hvort annað.\n",
    "#print(np.dot(x_train,r))\n",
    "#Því hærri sem talan er því líklegri er hún til þess að vera í íþróttum\n",
    "#Þægilegasta leiðin til að horfa á þetta er að einfaldlega fylgjast með formerkjunum\n",
    "# mínus = ekki íþróttir\n",
    "# plús = íþróttir\n",
    "N = x_test.shape[0]\n",
    "A = np.c_[np.ones(N), x_test]\n",
    "print(A.shape)\n",
    "print(theta.shape)\n",
    "z = np.dot(A,theta)\n",
    "#print(z)\n",
    "theta = np.delete(theta,0)\n",
    "\n",
    "\n",
    "\n",
    "sortedList = (np.argsort(theta))\n",
    "\n",
    "\n",
    "for i in range(0,10):\n",
    "    print(terms[sortedList[999-i]])\n"
   ]
  },
  {
   "cell_type": "markdown",
   "metadata": {},
   "source": [
    "a) Sameinið flokka 2 og 3 og útbúið minnstu kvaðrata flokkara út frá þjálfunargögnum. Metið skekkju flokkarans á þjálfunargögnum annars vegar og prófunargögnum hins vegar (e. training set error, test set error)."
   ]
  },
  {
   "cell_type": "markdown",
   "metadata": {},
   "source": [
    "b) Hvaða orð hafa mest áhrif á flokkunina? (Sýnið 10 orð eða þar um bil, gætið þess að taka tillit til fastans $v$)."
   ]
  },
  {
   "cell_type": "markdown",
   "metadata": {},
   "source": [
    "2\\. [Flokkun á handskrifuðum tölustöfum, 50 stig] Í þessu verkefni á að flokka myndir af handskrifuðum tölustöfum. Gögnin koma úr gagnasafni sem kallast MNIST og þau samanstanda af $28 \\times 28$ punkta myndum sem búið er að breyta í 784-vigra. Hver vigur er merktur með tölu, 0, 1, ..., 9 ($K=10$ flokkar). Markmiðið er að búa til flokkara (reglu) $\\hat{f}$ sem tekur mynd á vigurformi sem inntak og skilar tölu á bilinu 0 til 9 (sem helst ætti að vera rétt). Gögnunum er skipt í þjálfunargögn (10000 stök) og prófunargögn (1000 stök) sem þið notið til að þjálfa flokkarann annnars vegar og meta hversu góður hann er hins vegar.\n",
    "\n",
    "Þið sækið MNIST gögnin með"
   ]
  },
  {
   "cell_type": "code",
   "execution_count": 12,
   "metadata": {
    "scrolled": true
   },
   "outputs": [
    {
     "name": "stdout",
     "output_type": "stream",
     "text": [
      "(10000, 785)\n",
      "(1000, 785)\n",
      "(10, 785)\n",
      "3\n"
     ]
    }
   ],
   "source": [
    "#2a\n",
    "import numpy as np\n",
    "import matplotlib.pyplot as plt\n",
    "\n",
    "data=np.load('mnist_small.npz')\n",
    "x_train=data['x_train']\n",
    "y_train=data['y_train']\n",
    "x_test=data['x_test']\n",
    "y_test=data['y_test']\n",
    "n_train = len(y_train)\n",
    "n_test = len(y_test)\n",
    "\n",
    "x_train=np.c_[np.ones(n_train), x_train]\n",
    "x_test=np.c_[np.ones(n_test), x_test]\n",
    "print(x_train.shape)\n",
    "print(x_test.shape)\n",
    "\n",
    "\n",
    "jupaArray = np.empty((10,785))\n",
    "for i in range(0,10):\n",
    "    y_temp = y_train.copy()\n",
    "    for j in range(len(y_train)):\n",
    "        if y_temp[j] == i:\n",
    "            y_temp[j] = 1\n",
    "        else:\n",
    "            y_temp[j] = -1\n",
    "    jupaArray[i,:785],_,_,_ = LA.lstsq(x_train,y_temp)\n",
    "\n",
    "print(supaArray.shape)\n",
    "\n",
    "\n",
    "\n",
    "sum = -100\n",
    "current = -1\n",
    "for i in range(0,10):\n",
    "    temp = np.dot(x_train[0,:],jupaArray[i,:])\n",
    "    if temp > sum:\n",
    "        sum = temp\n",
    "        current = i\n",
    "\n",
    "print(current)\n",
    "\n",
    "#print(np.dot(x_test[1,:],supaArray))"
   ]
  },
  {
   "cell_type": "markdown",
   "metadata": {},
   "source": [
    "a) [20 stig] Þjálfið 10 tvíþátta flokkara (e. binary classifier) $\\hat{f}_k, ~i = 0,\\ldots,9$ sem eru þannig að $\\hat{f}_k$ greinir flokk $k$ frá öllum öðrum (sbr. dæmi 1 hér á undan) og mælið villutíðni á prófunargögnum fyrir hvern og einn flokkara. \n",
    "\n",
    "Myndið einn fjölþátta flokkara $\\hat{f}$ með því að taka stærsta $\\tilde{f}_k$ gildið sem niðurstöðu (sjá grein 14.3.1 í bók). Mælið villutíðni fyrir þann flokkara, bæði á þjálfunar og prófunargögnum. Setjið kóðann ykkar í föll eins og við á. Athugið að í þeim liðum sem á eftir koma skoðið þið eingöngu þjálfunar- og prófunarskekkju fyrir fjölþátta flokkarann.\n",
    "\n",
    "*Athugasemdir*:\n",
    "\n",
    "1) Þið getið skoðað gögn myndrænt með\n",
    "```python\n",
    "import matplotlib.pyplot as plt\n",
    "plt.imshow(x_train[0,:].reshape(28,28),cmap='Greys') # Fyrsta myndin í þjálfunargögnunum\n",
    "plt.show()\n",
    "```\n",
    "\n",
    "2) Notið $K \\times (p+1)$ fylki til að halda utan um vogtölur fyrir alla $K=10$ flokkarana (lína $i$ svarar til flokkara $i$).\n",
    "\n",
    "3) Brjótið verkefnið niður í viðráðanlegar einingar, útfærið t.d. fyrst flokkara fyrir $K=3$ og síðan fyrir $K=10$.\n"
   ]
  },
  {
   "cell_type": "markdown",
   "metadata": {},
   "source": [
    "b) [5 stig] Skrifið fall sem reiknar ruglingsfylki (e. confusion matrix) og sýnið ruglingsfyki fyrir þjálfunar- og prófunargögn. Eru niðurstöður ykkar nokkurn veginn í samræmi við töflur 14.11 og 14.12 í bók? (að teknu tilliti til þess að töflur í bók byggja á stærra gagnasafni og aðeins smærri bitmap-myndum)."
   ]
  },
  {
   "cell_type": "markdown",
   "metadata": {},
   "source": [
    "c) [10 stig] Í þessum lið á að framkvæma svokallað \"feature engineering\" (fremst í grein 13.3) með því að bæta við nýjum breytum. Við fáum þannig nýtt gagnasafn sem inniheldur allar upphaflegu breyturnar (784 pixel-gildi) og þær nýju að auki. Hér notum við svokallaða \"random features\" (sjá grein 14.2.2 í bók). Lát $q$ tákna fjölda breyta sem á að bæta við, t.d. $q=1000$.\n",
    "\n",
    "Fyrir 784-vigur $x$ fást nýju (afleiddu) breyturnar með $\\max{((Rx)_j,0)}),~j=1,\\ldots,q$ þar sem $R$ er $q \\times 784$ fylki með stökum sem valin eru af handahófi, $R_{ij}=\\pm 1$. Fyrir hverja mynd í prófunar- og þjálfunargögnum bætið þið við $q$ slíkum slembigögnum, þjálfið flokkara eins og í a) lið og mælið villutíðni á prófunarsafn. Framkvæmið þetta fyrir $q=100,1000, 5000$ og 10000.\n",
    "\n",
    "*Athugasemdir*:\n",
    "\n",
    "1) Þið getið notað `np.random.randint` til að útbúa slembinn 0/1 vigur og breytið yfir í $pm~1$ gildi.\n",
    "\n",
    "2) Þið útbúið eitt $R$-fylki fyrir hvert gildi á $q$ og notið sama fylkið fyrir bæði þjálfunar- og prófunargögn.\n",
    "\n",
    "3) Þið getið notað `np.maximum` til að framkvæma max-aðgerina."
   ]
  },
  {
   "cell_type": "markdown",
   "metadata": {},
   "source": [
    "d) [10 stig] Bætið nú reglunarlið $||w||^2$ við kvaðratskekkjuna (sjá greinar 15.1 og 15.4). Leysið minnstu kvaðrata verkefnið með upphaflegu gögnunum fyrir $\\lambda=10^{-2}, 1, 10^2, 10^4,10^6$. Reiknið þjálfunar- og prófunarskekkju í hvert skipti og teiknið graf sem sýnir skekkjur sem fall af $\\lambda$. Hvaða ályktanir má draga af grafinu?"
   ]
  },
  {
   "cell_type": "markdown",
   "metadata": {},
   "source": [
    "e) [5 stig] Hér á að nota bæði reglun og slembnar inntaksbreytur í þeirri viðleitni að auka nákvæmni í flokkun enn frekar. Veljið heppilegt gildi á $\\lambda$, bætið við slembnum inntaksbreytum eins og í b) lið og útbúið flokkara. Finnið villutíðni á prófunargögnum. Athugið að þið gætuð þurft að prófa önnur gildi á $\\lambda$ en notuð voru í d) lið."
   ]
  },
  {
   "cell_type": "code",
   "execution_count": 3,
   "metadata": {},
   "outputs": [
    {
     "name": "stdout",
     "output_type": "stream",
     "text": [
      "0.204\n"
     ]
    }
   ],
   "source": [
    "#2a\n",
    "temp = 0\n",
    "current = 0\n",
    "errs = 0\n",
    "for l in range(len(y_test)):\n",
    "    sum = -1\n",
    "    for i in range(0,10):\n",
    "        temp = np.dot(x_test[l,:],supaArray[i,:])\n",
    "        if temp > sum:\n",
    "            sum = temp\n",
    "            current = i\n",
    "    if current != y_test[l]:\n",
    "        errs += 1\n",
    "        \n",
    "print(errs/1000)"
   ]
  },
  {
   "cell_type": "code",
   "execution_count": 4,
   "metadata": {},
   "outputs": [
    {
     "name": "stdout",
     "output_type": "stream",
     "text": [
      "[[  82    0    0    0    0    0    2    0    1    0   85]\n",
      " [   0  122    0    1    1    0    1    0    1    0  126]\n",
      " [   2   13   75    4    0    0    4    6   12    0  116]\n",
      " [   1    0    2   86    2    3    2    3    5    3  107]\n",
      " [   0    2    1    0   95    3    1    0    2    6  110]\n",
      " [   4    1    0   14    1   50    3    3   10    1   87]\n",
      " [   3    2    0    0    3    4   75    0    0    0   87]\n",
      " [   0    7    2    1    3    0    0   78    0    8   99]\n",
      " [   0    3    3    7    5    2    1    1   65    2   89]\n",
      " [   0    2    0    2   10    0    0    9    3   68   94]\n",
      " [  92  152   83  115  120   62   89  100   99   88 1000]]\n"
     ]
    }
   ],
   "source": [
    "#2B\n",
    "matrix = np.full((11,11),0)\n",
    "temp = 0\n",
    "current = 0\n",
    "errs = 0\n",
    "for l in range(len(y_test)):\n",
    "    sum = -1\n",
    "    for i in range(0,10):\n",
    "        temp = np.dot(x_test[l,:],supaArray[i,:])\n",
    "        if temp > sum:\n",
    "            sum = temp\n",
    "            current = i\n",
    "    matrix[int(y_test[l]),current] += 1\n",
    "    matrix[int(y_test[l]),10] += 1\n",
    "    matrix[10,current] += 1\n",
    "    matrix[10,10] +=1  \n",
    "print(matrix)\n",
    "\n",
    "\n"
   ]
  },
  {
   "cell_type": "code",
   "execution_count": 24,
   "metadata": {},
   "outputs": [
    {
     "name": "stdout",
     "output_type": "stream",
     "text": [
      "done2\n",
      "(1000, 885)\n",
      "(10, 885)\n"
     ]
    }
   ],
   "source": [
    "#2c)\n",
    "q=100\n",
    "R = (np.random.randint(low=0, high=2,size=(785,q))*2)-1\n",
    "newMat = np.full((x_train.shape[0], 785+q),0)\n",
    "for i in range(x_train.shape[0]):\n",
    "    g = np.dot(x_train[i,:],R)\n",
    "    for j in range(785):\n",
    "        newMat[i,j] = x_train[i,j]\n",
    "    for k in range(q):\n",
    "        if g[k] <= 0:\n",
    "            newMat[i,k+784] = 0\n",
    "        else:\n",
    "            newMat[i,k+784] = g[k]\n",
    "        \n",
    "supaArray = np.empty((10,785+q))\n",
    "for i in range(0,10):\n",
    "    y_temp = y_train.copy()\n",
    "    for j in range(len(y_train)):\n",
    "        if y_temp[j] == i:\n",
    "            y_temp[j] = 1\n",
    "        else:\n",
    "            y_temp[j] = -1\n",
    "    supaArray[i,:785+q],_,_,_ = LA.lstsq(newMat,y_temp)\n",
    "\n",
    "newTest = np.full((x_test.shape[0], 785+q),0)\n",
    "\n",
    "for i in range(x_test.shape[0]):\n",
    "    g = np.dot(x_test[i,:],R)\n",
    "    for j in range(785):\n",
    "        newTest[i,j] = x_test[i,j]\n",
    "    for k in range(q):\n",
    "        if g[k] <= 0:\n",
    "            newTest[i,k+784] = 0\n",
    "        else:\n",
    "            newTest[i,k+784] = g[k]\n",
    "\n",
    "print(\"done2\")\n",
    "print(newTest.shape)\n",
    "print(supaArray.shape)"
   ]
  },
  {
   "cell_type": "code",
   "execution_count": 26,
   "metadata": {
    "scrolled": true
   },
   "outputs": [
    {
     "name": "stdout",
     "output_type": "stream",
     "text": [
      "0.159\n",
      "[[  82    0    0    0    0    1    1    0    1    0   85]\n",
      " [   0  122    0    1    0    0    1    0    2    0  126]\n",
      " [   1    6   85    2    0    0    6    4   12    0  116]\n",
      " [   0    1    1   88    0    7    1    2    5    2  107]\n",
      " [   0    1    1    0   95    2    1    1    1    8  110]\n",
      " [   3    0    0    8    2   65    0    0    8    1   87]\n",
      " [   4    2    0    0    3    3   75    0    0    0   87]\n",
      " [   0    7    3    2    5    0    0   77    0    5   99]\n",
      " [   0    0    2    5    3    0    1    2   75    1   89]\n",
      " [   0    1    0    0    8    0    0    4    4   77   94]\n",
      " [  90  140   92  106  116   78   86   90  108   94 1000]]\n"
     ]
    }
   ],
   "source": [
    "#2c)\n",
    "matrix = np.full((11,11),0)\n",
    "temp = 0\n",
    "current = 0\n",
    "errs = 0\n",
    "for l in range(len(y_test)):\n",
    "    sum = -1\n",
    "    for i in range(0,10):\n",
    "        temp = np.dot(newTest[l,:],supaArray[i,:])\n",
    "        if temp > sum:\n",
    "            sum = temp\n",
    "            current = i\n",
    "    if current != y_test[l]:\n",
    "        errs += 1\n",
    "    matrix[int(y_test[l]),current] += 1\n",
    "    matrix[int(y_test[l]),10] += 1\n",
    "    matrix[10,current] += 1\n",
    "    matrix[10,10] +=1\n",
    "\n",
    "print(errs/1000)\n",
    "print(matrix)\n"
   ]
  },
  {
   "cell_type": "code",
   "execution_count": 8,
   "metadata": {},
   "outputs": [
    {
     "name": "stdout",
     "output_type": "stream",
     "text": [
      "(10, 785)\n"
     ]
    }
   ],
   "source": [
    "import matplotlib.pyplot as plt\n",
    "\n",
    "supaArray = np.empty((10,785))\n",
    "lamb = 1000\n",
    "\n",
    "for i in range(0,10):\n",
    "    y_temp = y_train.copy()\n",
    "    for j in range(len(y_train)):\n",
    "        if y_temp[j] == i:\n",
    "            y_temp[j] = 1\n",
    "        else:\n",
    "            y_temp[j] = -1\n",
    "    A = lamb*x_train\n",
    "    B = lamb*y_temp\n",
    "    supaArray[i,:785],_,_,_ = LA.lstsq(A,B)\n",
    "\n",
    "print(supaArray.shape)"
   ]
  },
  {
   "cell_type": "code",
   "execution_count": 9,
   "metadata": {},
   "outputs": [
    {
     "name": "stdout",
     "output_type": "stream",
     "text": [
      "10000\n"
     ]
    }
   ],
   "source": [
    "print(len(y_train))"
   ]
  },
  {
   "cell_type": "markdown",
   "metadata": {},
   "source": [
    "d) [10 stig] Bætið nú reglunarlið $||w||^2$ við kvaðratskekkjuna (sjá greinar 15.1 og 15.4). Leysið minnstu kvaðrata verkefnið með upphaflegu gögnunum fyrir $\\lambda=10^{-2}, 1, 10^2, 10^4,10^6$. Reiknið þjálfunar- og prófunarskekkju í hvert skipti og teiknið graf sem sýnir skekkjur sem fall af $\\lambda$. Hvaða ályktanir má draga af grafinu?"
   ]
  },
  {
   "cell_type": "markdown",
   "metadata": {},
   "source": [
    "e) [5 stig] Hér á að nota bæði reglun og slembnar inntaksbreytur í þeirri viðleitni að auka nákvæmni í flokkun enn frekar. Veljið heppilegt gildi á $\\lambda$, bætið við slembnum inntaksbreytum eins og í b) lið og útbúið flokkara. Finnið villutíðni á prófunargögnum. Athugið að þið gætuð þurft að prófa önnur gildi á $\\lambda$ en notuð voru í d) lið."
   ]
  },
  {
   "cell_type": "code",
   "execution_count": 20,
   "metadata": {},
   "outputs": [
    {
     "data": {
      "image/png": "[encoded data removed]",
      "text/plain": [
       "<matplotlib.figure.Figure at 0x20de8b8eb38>"
      ]
     },
     "metadata": {},
     "output_type": "display_data"
    }
   ],
   "source": []
  },
  {
   "cell_type": "code",
   "execution_count": null,
   "metadata": {
    "collapsed": true
   },
   "outputs": [],
   "source": []
  }
 ],
 "metadata": {
  "kernelspec": {
   "display_name": "Python 2",
   "language": "python",
   "name": "python2"
  },
  "language_info": {
   "codemirror_mode": {
    "name": "ipython",
    "version": 2
   },
   "file_extension": ".py",
   "mimetype": "text/x-python",
   "name": "python",
   "nbconvert_exporter": "python",
   "pygments_lexer": "ipython2",
   "version": "2.7.10"
  }
 },
 "nbformat": 4,
 "nbformat_minor": 2
}
